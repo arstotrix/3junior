{
  "nbformat": 4,
  "nbformat_minor": 0,
  "metadata": {
    "colab": {
      "name": "дз3.ipynb",
      "provenance": [],
      "authorship_tag": "ABX9TyPIDm1DWsN+YFWsXwWWJ1du",
      "include_colab_link": true
    },
    "kernelspec": {
      "name": "python3",
      "display_name": "Python 3"
    }
  },
  "cells": [
    {
      "cell_type": "markdown",
      "metadata": {
        "id": "view-in-github",
        "colab_type": "text"
      },
      "source": [
        "<a href=\"https://colab.research.google.com/github/arstotrix/3junior/blob/master/%D0%B4%D0%B73.ipynb\" target=\"_parent\"><img src=\"https://colab.research.google.com/assets/colab-badge.svg\" alt=\"Open In Colab\"/></a>"
      ]
    },
    {
      "cell_type": "markdown",
      "metadata": {
        "id": "UdzUkKaTZXro",
        "colab_type": "text"
      },
      "source": [
        "я не знаю когда я это закончу...\n",
        "я очень сильно болею и довольно давно\n",
        "\n",
        "я успела написать одну (1) строчку перед тем как свалиться непонятно с чем\n",
        "\n",
        "я это сдам но мне реально очень и очень плохо, я из дома выйти не могу\n"
      ]
    },
    {
      "cell_type": "code",
      "metadata": {
        "id": "JnVR9IODnoQP",
        "colab_type": "code",
        "colab": {}
      },
      "source": [
        "import doctest\n",
        "import json"
      ],
      "execution_count": 0,
      "outputs": []
    },
    {
      "cell_type": "code",
      "metadata": {
        "id": "Zq3lKFdhG8Y2",
        "colab_type": "code",
        "colab": {}
      },
      "source": [
        "class FlashCards():\n",
        "    def __init__(self, path_to_file: str):\n",
        "        '''\n",
        "        Прочитает пары слов из указанного файла в формате json. \n",
        "        Создаст все требующиеся атрибуты.  \n",
        "        '''\n",
        "        global data = json.load(path_to_file)\n",
        "\n",
        "\n",
        "        pass\n",
        "\n",
        "    def play(self) -> str:\n",
        "        '''\n",
        "        Выдает русские слова из словаря в рандомном порядке, \n",
        "        сверяет введенный пользователем перевод с правильным \n",
        "        (регистр введенного слова при этом не важен), \n",
        "        пока слова в словаре не закончатся. \n",
        "        Возвращает строку с количеством правильных ответов/общим количеством \n",
        "        слов в словаре (см пример работы). \n",
        "        '''\n",
        "        russian\n",
        "        word = input('')\n",
        "\n",
        "    def add_word(self, russian: str, english: str) -> str:\n",
        "        '''\n",
        "        Добавляет в словарь новую пару слов, \n",
        "        если русского слова еще нет в словаре.\n",
        "        Возвращает строку в зависимоти от результата (см пример работы). \n",
        "        '''\n",
        "\n",
        "    def delete_word(self, russian: str) -> str:\n",
        "        '''\n",
        "        Удаляет из словаря введенное русское слово\n",
        "        и соответсвующее ему английское. \n",
        "        Возвращает строку в зависимоти от результата (см пример работы). \n",
        "        '''"
      ],
      "execution_count": 0,
      "outputs": []
    }
  ]
}